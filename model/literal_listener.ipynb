{
 "cells": [
  {
   "cell_type": "code",
   "execution_count": 32,
   "metadata": {},
   "outputs": [],
   "source": [
    "import os\n",
    "import pickle\n",
    "import numpy as np\n",
    "import pandas as pd\n",
    "import torch\n",
    "import torch.nn as nn\n",
    "import matplotlib.pyplot as plt\n",
    "import matplotlib.colors as colors\n",
    "plt.rcParams['figure.figsize'] = (5.0, 0.8) \n",
    "import matplotlib.patches as mpatches\n",
    "from util.color_util import *\n",
    "import pickle\n",
    "from random import shuffle\n",
    "import torch.optim as optim\n",
    "import colorsys\n",
    "from model.RSA import *\n",
    "from model.WM18 import *\n",
    "from numpy import dot\n",
    "from numpy.linalg import norm\n",
    "from scipy import spatial\n",
    "from colormath.color_objects import sRGBColor, LabColor\n",
    "from colormath.color_conversions import convert_color\n",
    "from colormath.color_diff import delta_e_cie2000\n",
    "from skimage import io, color\n",
    "import random\n",
    "from tabulate import tabulate"
   ]
  },
  {
   "cell_type": "code",
   "execution_count": 33,
   "metadata": {},
   "outputs": [],
   "source": [
    "RGB = True\n",
    "EXTEND = True\n",
    "NUM_EPOCHE = 500\n",
    "RETRAIN = True\n",
    "FOURIER_TRANSFORM = False\n",
    "MODEL_NAME = \"literal_listener_wm18\"\n",
    "SAMPLE_PER_COLOR = 1\n",
    "LISTENER = True\n",
    "COLOR_DIM = 54 if FOURIER_TRANSFORM else 3"
   ]
  },
  {
   "cell_type": "code",
   "execution_count": 34,
   "metadata": {},
   "outputs": [],
   "source": [
    "# load triples\n",
    "if EXTEND:\n",
    "    triple_train = pickle.load( open( \"../munroe/triple_train.p\", \"rb\" ) )\n",
    "    triple_dev = pickle.load( open( \"../munroe/triple_dev.p\", \"rb\" ) )\n",
    "    triple_test = pickle.load( open( \"../munroe/triple_test.p\", \"rb\" ) )\n",
    "else:\n",
    "    triple_train = pickle.load( open( \"../munroe/triple_train_reduce.p\", \"rb\" ) )\n",
    "    triple_dev = pickle.load( open( \"../munroe/triple_dev_reduce.p\", \"rb\" ) )\n",
    "    triple_test = pickle.load( open( \"../munroe/triple_test_reduce.p\", \"rb\" ) )\n",
    "    \n",
    "# load colors\n",
    "cdict_train_rgb = pickle.load( open( \"../munroe/cdict_train.p\", \"rb\" ) )\n",
    "cdict_dev_rgb = pickle.load( open( \"../munroe/cdict_dev.p\", \"rb\" ) )\n",
    "cdict_test_rgb = pickle.load( open( \"../munroe/cdict_test.p\", \"rb\" ) )\n",
    "\n",
    "cdict_train = dict()\n",
    "cdict_dev = dict()\n",
    "cdict_test = dict()\n",
    "\n",
    "if RGB:\n",
    "    cdict_train = cdict_train_rgb\n",
    "    cdict_dev = cdict_dev_rgb\n",
    "    cdict_test = cdict_test_rgb\n",
    "else:\n",
    "    for c in cdict_train_rgb.keys():\n",
    "        cdict_train[c] = torch.tensor(colors.rgb_to_hsv(cdict_train_rgb[c]))\n",
    "    for c in cdict_dev_rgb.keys():\n",
    "        cdict_dev[c] = torch.tensor(colors.rgb_to_hsv(cdict_dev_rgb[c]))\n",
    "    for c in cdict_test_rgb.keys():\n",
    "        cdict_test[c] = torch.tensor(colors.rgb_to_hsv(cdict_test_rgb[c]))\n",
    "\n",
    "# load embeddings for this dataset only\n",
    "embeddings = pickle.load( open( \"../munroe/glove_color.p\", \"rb\" ) )\n",
    "\n",
    "# generate test sets\n",
    "test_set = generate_test_set_inverse(triple_train, triple_test)"
   ]
  },
  {
   "cell_type": "code",
   "execution_count": 35,
   "metadata": {},
   "outputs": [],
   "source": [
    "mse = nn.MSELoss(reduction = 'none')\n",
    "cos = nn.CosineSimilarity(dim=1)\n",
    "colorLoss = lambda source, target, wg: ((1-cos(wg, source-target)) + mse(source, target+wg).sum(dim=-1)).sum()"
   ]
  },
  {
   "cell_type": "code",
   "execution_count": 36,
   "metadata": {},
   "outputs": [
    {
     "name": "stdout",
     "output_type": "stream",
     "text": [
      "Epoche: 1, train loss:404.3560791015625\n",
      "Epoche: 101, train loss:156.42449951171875\n",
      "Epoche: 201, train loss:80.58253479003906\n",
      "Epoche: 301, train loss:43.66958999633789\n",
      "Epoche: 401, train loss:32.82158660888672\n"
     ]
    }
   ],
   "source": [
    "# net = LiteralListener(color_dim=COLOR_DIM)\n",
    "net = WM18(color_dim=COLOR_DIM)\n",
    "if RETRAIN:\n",
    "    '''\n",
    "    Skip this as you dont have to retrain!\n",
    "    Main training loop\n",
    "    '''\n",
    "    optimizer = optim.Adam(net.parameters(), lr=0.001)\n",
    "    debug = False\n",
    "    sample_per_color = SAMPLE_PER_COLOR\n",
    "\n",
    "    for i in range(NUM_EPOCHE):\n",
    "        net.train()\n",
    "        loss = 0.0\n",
    "        batch_num = 0\n",
    "        batch_index = 0\n",
    "        for batch_emb1, batch_emb2, batch_base_color, batch_base_color_raw, batch_target_color in \\\n",
    "            generate_batch(cdict_train, triple_train, embeddings,\n",
    "                           sample_per_color=sample_per_color,\n",
    "                           fourier=FOURIER_TRANSFORM,\n",
    "                           listener=LISTENER):\n",
    "            pred = net(batch_emb1, batch_emb2, batch_base_color)\n",
    "            wg = batch_base_color_raw - pred           # calculate the wg for the loss to use\n",
    "            batch_loss = colorLoss(batch_base_color_raw, batch_target_color, wg)\n",
    "            loss += batch_loss\n",
    "            batch_num += batch_emb1.shape[0]           # sum up total sample size\n",
    "            batch_loss.backward()\n",
    "            optimizer.step()\n",
    "            optimizer.zero_grad()\n",
    "            if debug:\n",
    "                print(f\"Batch: {batch_index+1}, train loss:{batch_loss.detach().numpy()}\")\n",
    "            batch_index += 1\n",
    "        if i % 100 == 0:\n",
    "            print(f\"Epoche: {i+1}, train loss:{loss.detach().numpy()}\")\n",
    "    # save the literal speaker to disk\n",
    "    checkpoint = {\"model\" : net.state_dict(), \"name\" : MODEL_NAME}\n",
    "    torch.save(checkpoint, \"./save_model/\" + MODEL_NAME + \".pth\")\n",
    "else:\n",
    "    checkpoint = torch.load(\"./save_model/\" + MODEL_NAME + \".pth\")\n",
    "    net.load_state_dict(checkpoint['model'])"
   ]
  },
  {
   "cell_type": "code",
   "execution_count": 37,
   "metadata": {},
   "outputs": [
    {
     "name": "stdout",
     "output_type": "stream",
     "text": [
      "predict seen_pair set with 312 samples.\n",
      "predict unseen_pair set with 0 samples.\n",
      "predict unseen_base set with 80 samples.\n",
      "predict unseen_mod set with 0 samples.\n",
      "predict unseen_fully set with 58 samples.\n",
      "predict overall set with 450 samples.\n"
     ]
    }
   ],
   "source": [
    "net_predict = predict_color(net, test_set, cdict_test, embeddings,\n",
    "                            sample_per_color=1, fourier=FOURIER_TRANSFORM,\n",
    "                            listener=LISTENER)"
   ]
  },
  {
   "cell_type": "code",
   "execution_count": 40,
   "metadata": {},
   "outputs": [],
   "source": [
    "def evaluate_color(net_predict, fmt=\"rgb\", eval_target=\"pred\", reduced=False, listener=False):\n",
    "    evaluation_metrics = dict()\n",
    "    for k in net_predict:\n",
    "        evaluation_metrics[k] = dict()\n",
    "        # we have 2 metrices to report\n",
    "        evaluation_metrics[k][\"cosine\"] = []\n",
    "        evaluation_metrics[k][\"delta_E\"] = []\n",
    "        for triple in net_predict[k].keys():\n",
    "            true = net_predict[k][triple][\"true\"]\n",
    "            pred = net_predict[k][triple][eval_target]\n",
    "            base = net_predict[k][triple][\"base\"]\n",
    "            if reduced:\n",
    "                pred = pred.mean(dim=0).unsqueeze(dim=0)\n",
    "            sample_size = pred.shape[0]\n",
    "            color_sim = 0.0\n",
    "            color_delta_e = 0.0\n",
    "            for i in range(sample_size):\n",
    "                if fmt == \"rgb\":\n",
    "                    pred_rgb = pred[i]\n",
    "                    true_rgb = true[0]\n",
    "                    base_rgb = base[0]\n",
    "                else:\n",
    "                    pred_rgb = torch.tensor(colors.hsv_to_rgb(pred[i]))  # rgb space for target color\n",
    "                    true_rgb = torch.tensor(colors.hsv_to_rgb(true[0]))  # keep consistent with previous paper\n",
    "                    base_rgb = torch.tensor(colors.hsv_to_rgb(base[0]))  # rgb space for target color\n",
    "                # cosine metrics\n",
    "                if listener:\n",
    "                    cos_sim = 1 - spatial.distance.cosine(base_rgb - pred_rgb, base_rgb - true_rgb)\n",
    "                else:\n",
    "                    cos_sim = 1 - spatial.distance.cosine(pred_rgb - base_rgb, true_rgb - base_rgb)\n",
    "                color_sim += cos_sim\n",
    "                # delta_E\n",
    "                c1 = sRGBColor(rgb_r=pred_rgb[0], rgb_g=pred_rgb[1], rgb_b=pred_rgb[2])\n",
    "                c2 = sRGBColor(rgb_r=true_rgb[0], rgb_g=true_rgb[1], rgb_b=true_rgb[2])\n",
    "                # Convert from RGB to Lab Color Space\n",
    "                color1_lab = convert_color(c1, LabColor)\n",
    "                # Convert from RGB to Lab Color Space\n",
    "                color2_lab = convert_color(c2, LabColor)\n",
    "                delta_e = delta_e_cie2000(color1_lab, color2_lab)\n",
    "                color_delta_e += delta_e\n",
    "\n",
    "            color_sim = color_sim*1.0 / sample_size  # color avg cosine\n",
    "            color_delta_e = color_delta_e*1.0 / sample_size  # color avg cosine\n",
    "            \n",
    "            evaluation_metrics[k][\"cosine\"].append(color_sim)\n",
    "            evaluation_metrics[k][\"delta_E\"].append(color_delta_e)\n",
    "            \n",
    "    # display evaluation metrices accordingly\n",
    "    display_list = []\n",
    "    for condition in evaluation_metrics.keys():\n",
    "        cosine = evaluation_metrics[condition][\"cosine\"]\n",
    "        delta_E = evaluation_metrics[condition][\"delta_E\"]\n",
    "        cosine_str = \"%s (%s)\" % ('{:.3f}'.format(np.mean(cosine)), '{:.3f}'.format(np.std(cosine), ddof=1))\n",
    "        delta_E_str = \"%s (%s)\" % ('{:.3f}'.format(np.mean(delta_E)), '{:.3f}'.format(np.std(delta_E), ddof=1))\n",
    "        row = [condition, cosine_str, delta_E_str]\n",
    "        display_list.append(row)\n",
    "        \n",
    "    print(tabulate(display_list, headers=['condition', 'cosine (std)', 'delta_E (std)']))\n",
    "    \n",
    "    return evaluation_metrics\n"
   ]
  },
  {
   "cell_type": "code",
   "execution_count": 41,
   "metadata": {},
   "outputs": [
    {
     "name": "stdout",
     "output_type": "stream",
     "text": [
      "condition     cosine (std)    delta_E (std)\n",
      "------------  --------------  ---------------\n",
      "seen_pair     0.920 (0.154)   5.034 (3.479)\n",
      "unseen_pair   nan (nan)       nan (nan)\n",
      "unseen_base   0.531 (0.573)   14.051 (11.051)\n",
      "unseen_mod    nan (nan)       nan (nan)\n",
      "unseen_fully  0.133 (0.562)   17.208 (9.180)\n",
      "overall       0.749 (0.439)   8.206 (8.028)\n"
     ]
    }
   ],
   "source": [
    "evaluation_metrics = evaluate_color(net_predict, listener=LISTENER)"
   ]
  },
  {
   "cell_type": "code",
   "execution_count": null,
   "metadata": {},
   "outputs": [],
   "source": []
  }
 ],
 "metadata": {
  "kernelspec": {
   "display_name": "Python 3",
   "language": "python",
   "name": "python3"
  },
  "language_info": {
   "codemirror_mode": {
    "name": "ipython",
    "version": 3
   },
   "file_extension": ".py",
   "mimetype": "text/x-python",
   "name": "python",
   "nbconvert_exporter": "python",
   "pygments_lexer": "ipython3",
   "version": "3.7.3"
  }
 },
 "nbformat": 4,
 "nbformat_minor": 2
}
