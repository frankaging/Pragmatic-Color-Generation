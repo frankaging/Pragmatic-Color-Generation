{
 "cells": [
  {
   "cell_type": "code",
   "execution_count": 7,
   "metadata": {},
   "outputs": [],
   "source": [
    "import os\n",
    "import pickle\n",
    "import numpy as np\n",
    "import pandas as pd\n",
    "import torch\n",
    "import torch.nn as nn\n",
    "import matplotlib.pyplot as plt\n",
    "import matplotlib.colors as colors\n",
    "plt.rcParams['figure.figsize'] = (5.0, 0.8) \n",
    "import matplotlib.patches as mpatches\n",
    "from util.color_util import *\n",
    "import pickle\n",
    "from random import shuffle\n",
    "import torch.optim as optim\n",
    "import colorsys\n",
    "from model.WM18 import *\n",
    "from numpy import dot\n",
    "from numpy.linalg import norm\n",
    "from scipy import spatial\n",
    "from colormath.color_objects import sRGBColor, LabColor\n",
    "from colormath.color_conversions import convert_color\n",
    "from colormath.color_diff import delta_e_cie2000\n",
    "from skimage import io, color\n",
    "import random\n",
    "from tabulate import tabulate"
   ]
  },
  {
   "cell_type": "code",
   "execution_count": 2,
   "metadata": {},
   "outputs": [],
   "source": [
    "# load colors\n",
    "cdict_train_rgb = pickle.load( open( \"../munroe/cdict_train.p\", \"rb\" ) )\n",
    "cdict_dev_rgb = pickle.load( open( \"../munroe/cdict_dev.p\", \"rb\" ) )\n",
    "cdict_test_rgb = pickle.load( open( \"../munroe/cdict_test.p\", \"rb\" ) )\n",
    "\n",
    "triple_train = pickle.load( open( \"../munroe/triple_train.p\", \"rb\" ) )\n",
    "triple_dev = pickle.load( open( \"../munroe/triple_dev.p\", \"rb\" ) )\n",
    "triple_test = pickle.load( open( \"../munroe/triple_test.p\", \"rb\" ) )"
   ]
  },
  {
   "cell_type": "code",
   "execution_count": 22,
   "metadata": {},
   "outputs": [
    {
     "data": {
      "text/plain": [
       "[('green', ('more', 'acidic'), ('green',), 'acidgreen'),\n",
       " ('green', ('more', 'apple'), ('green',), 'applegreen'),\n",
       " ('green', ('more', 'aqua'), ('green',), 'aquagreen'),\n",
       " ('green', ('more', 'avocado'), ('green',), 'avocadogreen'),\n",
       " ('green', ('more', 'baby'), ('green',), 'babygreen'),\n",
       " ('pink', ('more', 'baby'), ('pink',), 'babypink'),\n",
       " ('poop', ('more', 'baby'), ('poop',), 'babypoop'),\n",
       " ('poopgreen', ('more', 'baby'), ('poop', 'green'), 'babypoopgreen'),\n",
       " ('pukegreen', ('more', 'baby'), ('puke', 'green'), 'babypukegreen'),\n",
       " ('shitgreen', ('more', 'baby'), ('shit', 'green'), 'babyshitgreen'),\n",
       " ('yellow', ('more', 'banana'), ('yellow',), 'bananayellow'),\n",
       " ('pink', ('more', 'barbie'), ('pink',), 'barbiepink'),\n",
       " ('violet', ('bluer',), ('violet',), 'blueviolet'),\n",
       " ('green', ('bluer',), ('green',), 'blueygreen'),\n",
       " ('purple', ('bluer',), ('purple',), 'blueypurple'),\n",
       " ('green', ('more', 'bluish'), ('green',), 'bluishgreen'),\n",
       " ('purple', ('more', 'bluish'), ('purple',), 'bluishpurple'),\n",
       " ('pink', ('more', 'blush'), ('pink',), 'blushpink'),\n",
       " ('green', ('more', 'booger'), ('green',), 'boogergreen'),\n",
       " ('green', ('more', 'bottle'), ('green',), 'bottlegreen'),\n",
       " ('aqua', ('brighter',), ('aqua',), 'brightaqua'),\n",
       " ('cyan', ('brighter',), ('cyan',), 'brightcyan'),\n",
       " ('fuchsia', ('brighter',), ('fuchsia',), 'brightfuchsia'),\n",
       " ('green', ('brighter',), ('green',), 'brightgreen'),\n",
       " ('indigo', ('brighter',), ('indigo',), 'brightindigo'),\n",
       " ('lavender', ('brighter',), ('lavender',), 'brightlavender'),\n",
       " ('lightgreen', ('brighter',), ('light', 'green'), 'brightlightgreen'),\n",
       " ('lilac', ('brighter',), ('lilac',), 'brightlilac'),\n",
       " ('lime', ('brighter',), ('lime',), 'brightlime'),\n",
       " ('limegreen', ('brighter',), ('lime', 'green'), 'brightlimegreen'),\n",
       " ('magenta', ('brighter',), ('magenta',), 'brightmagenta'),\n",
       " ('olive', ('brighter',), ('olive',), 'brightolive'),\n",
       " ('pink', ('brighter',), ('pink',), 'brightpink'),\n",
       " ('seagreen', ('brighter',), ('sea', 'green'), 'brightseagreen'),\n",
       " ('teal', ('brighter',), ('teal',), 'brightteal'),\n",
       " ('turquoise', ('brighter',), ('turquoise',), 'brightturquoise'),\n",
       " ('violet', ('brighter',), ('violet',), 'brightviolet'),\n",
       " ('yellow', ('brighter',), ('yellow',), 'brightyellow'),\n",
       " ('yellowgreen', ('brighter',), ('yellow-green',), 'brightyellowgreen'),\n",
       " ('green', ('more', 'brownish'), ('green',), 'brownishgreen'),\n",
       " ('pink', ('more', 'brownish'), ('pink',), 'brownishpink'),\n",
       " ('purple', ('more', 'brownish'), ('purple',), 'brownishpurple'),\n",
       " ('yellow', ('browner',), ('yellow',), 'brownyellow'),\n",
       " ('pink', ('more', 'bubblegum'), ('pink',), 'bubblegumpink'),\n",
       " ('sienna', ('more', 'burnt'), ('sienna',), 'burntsienna'),\n",
       " ('yellow', ('more', 'burnt'), ('yellow',), 'burntyellow'),\n",
       " ('yellow', ('more', 'butter'), ('yellow',), 'butteryellow'),\n",
       " ('green', ('more', 'camo'), ('green',), 'camogreen'),\n",
       " ('green', ('more', 'camouflage'), ('green',), 'camouflagegreen'),\n",
       " ('yellow', ('more', 'canary'), ('yellow',), 'canaryyellow')]"
      ]
     },
     "execution_count": 22,
     "metadata": {},
     "output_type": "execute_result"
    }
   ],
   "source": [
    "triple_train[:50]"
   ]
  },
  {
   "cell_type": "code",
   "execution_count": 23,
   "metadata": {},
   "outputs": [
    {
     "data": {
      "image/png": "[encoded data removed]",
      "text/plain": [
       "<Figure size 360x57.6 with 1 Axes>"
      ]
     },
     "metadata": {
      "needs_background": "light"
     },
     "output_type": "display_data"
    },
    {
     "data": {
      "text/plain": [
       "tensor([201.0617, 195.5154,  46.8495])"
      ]
     },
     "execution_count": 23,
     "metadata": {},
     "output_type": "execute_result"
    }
   ],
   "source": [
    "plot_color_single(cdict_train_rgb[\"yellow\"].mean(dim=0))\n",
    "cdict_train_rgb[\"yellow\"].mean(dim=0)*225"
   ]
  },
  {
   "cell_type": "code",
   "execution_count": 24,
   "metadata": {},
   "outputs": [
    {
     "data": {
      "image/png": "[encoded data removed]",
      "text/plain": [
       "<Figure size 360x57.6 with 1 Axes>"
      ]
     },
     "metadata": {
      "needs_background": "light"
     },
     "output_type": "display_data"
    },
    {
     "data": {
      "text/plain": [
       "tensor([158.4540, 138.5822,  37.6169])"
      ]
     },
     "execution_count": 24,
     "metadata": {},
     "output_type": "execute_result"
    }
   ],
   "source": [
    "plot_color_single(cdict_train_rgb[\"brownyellow\"].mean(dim=0))\n",
    "cdict_train_rgb[\"brownyellow\"].mean(dim=0)*225"
   ]
  },
  {
   "cell_type": "code",
   "execution_count": 25,
   "metadata": {},
   "outputs": [
    {
     "data": {
      "image/png": "[encoded data removed]",
      "text/plain": [
       "<Figure size 360x57.6 with 1 Axes>"
      ]
     },
     "metadata": {
      "needs_background": "light"
     },
     "output_type": "display_data"
    }
   ],
   "source": [
    "plot_color_change_raw(cdict_train_rgb[\"yellow\"].mean(dim=0),\n",
    "                      cdict_train_rgb[\"brownyellow\"].mean(dim=0) - cdict_train_rgb[\"yellow\"].mean(dim=0),\n",
    "                      strength=2)"
   ]
  },
  {
   "cell_type": "code",
   "execution_count": null,
   "metadata": {},
   "outputs": [],
   "source": []
  }
 ],
 "metadata": {
  "kernelspec": {
   "display_name": "Python 3",
   "language": "python",
   "name": "python3"
  },
  "language_info": {
   "codemirror_mode": {
    "name": "ipython",
    "version": 3
   },
   "file_extension": ".py",
   "mimetype": "text/x-python",
   "name": "python",
   "nbconvert_exporter": "python",
   "pygments_lexer": "ipython3",
   "version": "3.7.3"
  }
 },
 "nbformat": 4,
 "nbformat_minor": 2
}
