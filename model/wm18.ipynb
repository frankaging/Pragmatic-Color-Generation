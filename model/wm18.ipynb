{
 "cells": [
  {
   "cell_type": "markdown",
   "metadata": {},
   "source": [
    "## This serves as the purpose to reproduce what Winn and Muresan. had done.\n",
    "https://arxiv.org/pdf/1909.07586.pdf"
   ]
  },
  {
   "cell_type": "code",
   "execution_count": 1,
   "metadata": {},
   "outputs": [],
   "source": [
    "import os\n",
    "import pickle\n",
    "import numpy as np\n",
    "import pandas as pd\n",
    "import torch\n",
    "import torch.nn as nn\n",
    "import matplotlib.pyplot as plt\n",
    "import matplotlib.colors as colors\n",
    "plt.rcParams['figure.figsize'] = (5.0, 0.8) \n",
    "import matplotlib.patches as mpatches\n",
    "from util.color_util import *\n",
    "import pickle\n",
    "from random import shuffle\n",
    "import torch.optim as optim\n",
    "import colorsys\n",
    "from model.WM18 import *\n",
    "from numpy import dot\n",
    "from numpy.linalg import norm\n",
    "from scipy import spatial\n",
    "from colormath.color_objects import sRGBColor, LabColor\n",
    "from colormath.color_conversions import convert_color\n",
    "from colormath.color_diff import delta_e_cie2000\n",
    "from skimage import io, color\n",
    "import random\n",
    "from tabulate import tabulate"
   ]
  },
  {
   "cell_type": "code",
   "execution_count": 2,
   "metadata": {},
   "outputs": [],
   "source": [
    "RGB = True\n",
    "\n",
    "# load triples\n",
    "triple_train = pickle.load( open( \"../munroe/triple_train.p\", \"rb\" ) )\n",
    "triple_dev = pickle.load( open( \"../munroe/triple_dev.p\", \"rb\" ) )\n",
    "triple_test = pickle.load( open( \"../munroe/triple_test.p\", \"rb\" ) )\n",
    "\n",
    "# load colors\n",
    "cdict_train_rgb = pickle.load( open( \"../munroe/cdict_train.p\", \"rb\" ) )\n",
    "cdict_dev_rgb = pickle.load( open( \"../munroe/cdict_dev.p\", \"rb\" ) )\n",
    "cdict_test_rgb = pickle.load( open( \"../munroe/cdict_test.p\", \"rb\" ) )\n",
    "\n",
    "cdict_train = dict()\n",
    "cdict_dev = dict()\n",
    "cdict_test = dict()\n",
    "\n",
    "if RGB:\n",
    "    cdict_train = cdict_train_rgb\n",
    "    cdict_dev = cdict_dev_rgb\n",
    "    cdict_test = cdict_test_rgb\n",
    "else:\n",
    "    for c in cdict_train_rgb.keys():\n",
    "        cdict_train[c] = torch.tensor(colors.rgb_to_hsv(cdict_train_rgb[c]))\n",
    "    for c in cdict_dev_rgb.keys():\n",
    "        cdict_dev[c] = torch.tensor(colors.rgb_to_hsv(cdict_dev_rgb[c]))\n",
    "    for c in cdict_test_rgb.keys():\n",
    "        cdict_test[c] = torch.tensor(colors.rgb_to_hsv(cdict_test_rgb[c]))\n",
    "\n",
    "# load embeddings for this dataset only\n",
    "embeddings = pickle.load( open( \"../munroe/glove_color.p\", \"rb\" ) )\n",
    "\n",
    "# generate test sets\n",
    "test_set = generate_test_set(triple_train, triple_test)"
   ]
  },
  {
   "cell_type": "markdown",
   "metadata": {},
   "source": [
    "## WM18 Model Reproduce"
   ]
  },
  {
   "cell_type": "code",
   "execution_count": 3,
   "metadata": {},
   "outputs": [],
   "source": [
    "mse = nn.MSELoss(reduction = 'none')\n",
    "cos = nn.CosineSimilarity(dim=1)\n",
    "colorLoss = lambda source, target, wg: ((1-cos(wg, target-source)) + mse(target, source+wg).sum(dim=-1)).sum()"
   ]
  },
  {
   "cell_type": "code",
   "execution_count": 14,
   "metadata": {},
   "outputs": [
    {
     "name": "stdout",
     "output_type": "stream",
     "text": [
      "Epoche: 1, train loss:358.961181640625\n",
      "Epoche: 11, train loss:249.33009338378906\n",
      "Epoche: 21, train loss:200.93533325195312\n",
      "Epoche: 31, train loss:172.26718139648438\n",
      "Epoche: 41, train loss:150.99639892578125\n",
      "Epoche: 51, train loss:133.40618896484375\n",
      "Epoche: 61, train loss:118.75057983398438\n",
      "Epoche: 71, train loss:106.88467407226562\n",
      "Epoche: 81, train loss:97.76130676269531\n",
      "Epoche: 91, train loss:89.46797943115234\n",
      "Epoche: 101, train loss:81.13385009765625\n",
      "Epoche: 111, train loss:76.76742553710938\n",
      "Epoche: 121, train loss:71.72525787353516\n",
      "Epoche: 131, train loss:65.91504669189453\n",
      "Epoche: 141, train loss:63.24393081665039\n",
      "Epoche: 151, train loss:59.372764587402344\n",
      "Epoche: 161, train loss:56.02265167236328\n",
      "Epoche: 171, train loss:53.20472717285156\n",
      "Epoche: 181, train loss:51.52340316772461\n",
      "Epoche: 191, train loss:48.59611511230469\n",
      "Epoche: 201, train loss:46.76017761230469\n",
      "Epoche: 211, train loss:45.8540153503418\n",
      "Epoche: 221, train loss:43.098480224609375\n",
      "Epoche: 231, train loss:42.23448181152344\n",
      "Epoche: 241, train loss:39.908668518066406\n",
      "Epoche: 251, train loss:38.72615432739258\n",
      "Epoche: 261, train loss:38.379146575927734\n",
      "Epoche: 271, train loss:36.63806915283203\n",
      "Epoche: 281, train loss:34.5142822265625\n",
      "Epoche: 291, train loss:31.88651466369629\n",
      "Epoche: 301, train loss:28.037202835083008\n",
      "Epoche: 311, train loss:28.716758728027344\n",
      "Epoche: 321, train loss:22.012069702148438\n",
      "Epoche: 331, train loss:19.378000259399414\n",
      "Epoche: 341, train loss:17.934688568115234\n",
      "Epoche: 351, train loss:16.11952781677246\n",
      "Epoche: 361, train loss:14.592194557189941\n",
      "Epoche: 371, train loss:14.397677421569824\n",
      "Epoche: 381, train loss:14.084456443786621\n",
      "Epoche: 391, train loss:13.252922058105469\n",
      "Epoche: 401, train loss:13.909307479858398\n",
      "Epoche: 411, train loss:12.524776458740234\n",
      "Epoche: 421, train loss:12.149471282958984\n",
      "Epoche: 431, train loss:11.42426586151123\n",
      "Epoche: 441, train loss:10.941086769104004\n",
      "Epoche: 451, train loss:10.35740852355957\n",
      "Epoche: 461, train loss:10.552327156066895\n",
      "Epoche: 471, train loss:9.607946395874023\n",
      "Epoche: 481, train loss:9.846159934997559\n",
      "Epoche: 491, train loss:9.27005672454834\n"
     ]
    }
   ],
   "source": [
    "net = WM18(color_dim=3)\n",
    "NUM_EPOCHE = 500\n",
    "RETRAIN = True\n",
    "FOURIER_TRANSFORM = False\n",
    "\n",
    "if RETRAIN:\n",
    "    '''\n",
    "    Skip this as you dont have to retrain!\n",
    "    Main training loop\n",
    "    '''\n",
    "    optimizer = optim.Adam(net.parameters(), lr=0.001)\n",
    "    debug = False\n",
    "    sample_per_color = 1                               # Set to 1 to be as the same as the original paper\n",
    "\n",
    "    for i in range(NUM_EPOCHE):\n",
    "        net.train()\n",
    "        loss = 0.0\n",
    "        batch_num = 0\n",
    "        batch_index = 0\n",
    "        for batch_emb1, batch_emb2, batch_base_color, batch_base_color_raw, batch_target_color in \\\n",
    "            generate_batch(cdict_train, triple_train, embeddings,\n",
    "                           sample_per_color=sample_per_color,\n",
    "                           fourier=False):\n",
    "            pred = net(batch_emb1, batch_emb2, batch_base_color)\n",
    "            wg = pred - batch_base_color_raw           # calculate the wg for the loss to use\n",
    "            batch_loss = colorLoss(batch_base_color_raw, batch_target_color, wg)\n",
    "            loss += batch_loss\n",
    "            batch_num += batch_emb1.shape[0]           # sum up total sample size\n",
    "            batch_loss.backward()\n",
    "            optimizer.step()\n",
    "            optimizer.zero_grad()\n",
    "            if debug:\n",
    "                print(f\"Batch: {batch_index+1}, train loss:{batch_loss.detach().numpy()}\")\n",
    "            batch_index += 1\n",
    "        if i % 10 == 0:\n",
    "            print(f\"Epoche: {i+1}, train loss:{loss.detach().numpy()}\")\n",
    "    # save the literal speaker to disk\n",
    "    checkpoint = {\"model\" : net.state_dict(), \"name\" : \"wm18\"}\n",
    "    torch.save(checkpoint, \"./save_model/wm18_model.pth\")\n",
    "else:\n",
    "    checkpoint = torch.load(\"./save_model/wm18_model.pth\")\n",
    "    net.load_state_dict(checkpoint['model'])"
   ]
  },
  {
   "cell_type": "code",
   "execution_count": 17,
   "metadata": {},
   "outputs": [
    {
     "name": "stdout",
     "output_type": "stream",
     "text": [
      "predict seen_pair set with 312 samples.\n",
      "predict unseen_pair set with 18 samples.\n",
      "predict unseen_base set with 62 samples.\n",
      "predict unseen_mod set with 41 samples.\n",
      "predict unseen_fully set with 17 samples.\n",
      "predict overall set with 450 samples.\n"
     ]
    }
   ],
   "source": [
    "net_predict = predict_color(net, test_set, cdict_test, embeddings, sample_per_color=1, fourier=FOURIER_TRANSFORM)"
   ]
  },
  {
   "cell_type": "code",
   "execution_count": 18,
   "metadata": {},
   "outputs": [
    {
     "name": "stdout",
     "output_type": "stream",
     "text": [
      "condition     cosine (std)    delta_E (std)\n",
      "------------  --------------  ---------------\n",
      "seen_pair     0.946 (0.138)   4.314 (3.135)\n",
      "unseen_pair   0.845 (0.339)   4.972 (2.489)\n",
      "unseen_base   0.799 (0.396)   8.735 (5.791)\n",
      "unseen_mod    0.593 (0.466)   11.587 (5.677)\n",
      "unseen_fully  0.519 (0.599)   13.865 (8.430)\n",
      "overall       0.873 (0.298)   5.973 (5.052)\n"
     ]
    }
   ],
   "source": [
    "evaluation_metrics = evaluate_color(net_predict)"
   ]
  },
  {
   "cell_type": "code",
   "execution_count": null,
   "metadata": {},
   "outputs": [],
   "source": [
    "condition = \"seen_pair\"\n",
    "triple_sample = random.choice(list(net_predict[condition].keys()))\n",
    "print(triple_sample)\n",
    "plt.rcParams['figure.figsize'] = (5.0, 0.8) \n",
    "sample = net_predict[condition][triple_sample]\n",
    "plot_color_change_raw(sample[\"base\"][0], sample[\"true\"][0] - sample[\"base\"][0], strength=2)\n",
    "plot_color_change_raw(sample[\"base\"][0], sample[\"pred\"][0] - sample[\"base\"][0], strength=2)"
   ]
  },
  {
   "cell_type": "code",
   "execution_count": null,
   "metadata": {},
   "outputs": [],
   "source": []
  }
 ],
 "metadata": {
  "kernelspec": {
   "display_name": "Python 3",
   "language": "python",
   "name": "python3"
  },
  "language_info": {
   "codemirror_mode": {
    "name": "ipython",
    "version": 3
   },
   "file_extension": ".py",
   "mimetype": "text/x-python",
   "name": "python",
   "nbconvert_exporter": "python",
   "pygments_lexer": "ipython3",
   "version": "3.7.3"
  }
 },
 "nbformat": 4,
 "nbformat_minor": 2
}
